{
 "cells": [
  {
   "cell_type": "markdown",
   "id": "624053a0-d7bf-44d9-9c31-a4febd32c57b",
   "metadata": {},
   "source": [
    "# Data Science Tools and Ecosystem"
   ]
  },
  {
   "cell_type": "markdown",
   "id": "b09ac01a-633e-4751-a998-49c9e22ec889",
   "metadata": {},
   "source": [
    "Data Scien Tools and Ecosystem are summarized"
   ]
  },
  {
   "cell_type": "markdown",
   "id": "c3535463-e0c8-4c31-9b21-ff0f1fc263c5",
   "metadata": {},
   "source": [
    "# Objectives :\n",
    "* List popular languages for Data Science\n",
    "* List popular Data Science Tools\n",
    "* Use Markdown cell\n",
    "* list commonly used Librairies by Data Scientists\n",
    "* how to use comment in the code cell"
   ]
  },
  {
   "cell_type": "markdown",
   "id": "b4179d86-d74f-4080-b2d8-f56a324231ed",
   "metadata": {},
   "source": [
    "Somme of the popular languages that Data Scientist use are :\n",
    "1. Python\n",
    "2. R\n",
    "3. Julia"
   ]
  },
  {
   "cell_type": "markdown",
   "id": "825d20cf-846a-4059-aec1-801b2abecb9c",
   "metadata": {},
   "source": [
    "Somme of the commonly used librairies used by Data Scientists include:\n",
    "* Numpy\n",
    "* Pandas\n",
    "* Matplotlib\n",
    "* Seaborn\n",
    "* caret\n",
    "* etc."
   ]
  },
  {
   "cell_type": "markdown",
   "id": "8677b4a2-cb8c-453a-895c-e1f1cf3bdd42",
   "metadata": {},
   "source": [
    "Table :\n",
    "| Data Science Tools |\n",
    "| ------------------ |\n",
    "| Anaconda |\n",
    "| Jupyter Lab |\n",
    "| Jupyter Notebooks |\n",
    "| Vs Code |\n"
   ]
  },
  {
   "cell_type": "markdown",
   "id": "124d8bb3-6a0b-4e18-be4b-608012ac30f2",
   "metadata": {},
   "source": [
    "### Below are a few examples of evaluating arithmetic expressions in python"
   ]
  },
  {
   "cell_type": "code",
   "execution_count": 11,
   "id": "70cc122b-b71b-4756-8468-a6011781b3c9",
   "metadata": {},
   "outputs": [
    {
     "data": {
      "text/plain": [
       "17"
      ]
     },
     "execution_count": 11,
     "metadata": {},
     "output_type": "execute_result"
    }
   ],
   "source": [
    "#This a simple arithmetic expression to multiply then add integers\n",
    "(3*4)+5"
   ]
  },
  {
   "cell_type": "code",
   "execution_count": 13,
   "id": "fc69e580-251d-4a76-b70d-31e8c06e282c",
   "metadata": {},
   "outputs": [
    {
     "name": "stdout",
     "output_type": "stream",
     "text": [
      "The reuslts in hours is : 3.3333333333333335\n"
     ]
    }
   ],
   "source": [
    "#This will convert 200 minutes to hours by diving by 60\n",
    "NbrMin = 200\n",
    "MinInHour = 60\n",
    "ResultInHours = NbrMin/MinInHour\n",
    "print(\"The reuslts in hours is :\",ResultInHours)"
   ]
  },
  {
   "cell_type": "markdown",
   "id": "f3e0c271-8068-4aba-bb75-2087c69d365a",
   "metadata": {},
   "source": [
    "## Author\n",
    "Jida Bassem"
   ]
  },
  {
   "cell_type": "code",
   "execution_count": null,
   "id": "345c5c4d-98dd-4c7c-be79-95c134749d96",
   "metadata": {},
   "outputs": [],
   "source": []
  }
 ],
 "metadata": {
  "kernelspec": {
   "display_name": "Python 3 (ipykernel)",
   "language": "python",
   "name": "python3"
  },
  "language_info": {
   "codemirror_mode": {
    "name": "ipython",
    "version": 3
   },
   "file_extension": ".py",
   "mimetype": "text/x-python",
   "name": "python",
   "nbconvert_exporter": "python",
   "pygments_lexer": "ipython3",
   "version": "3.11.7"
  }
 },
 "nbformat": 4,
 "nbformat_minor": 5
}
