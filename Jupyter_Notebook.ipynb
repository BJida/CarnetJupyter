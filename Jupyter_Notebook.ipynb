{
 "cells": [
  {
   "cell_type": "markdown",
   "metadata": {},
   "source": [
    "<center>\n",
    "    <img src=\"https://cf-courses-data.s3.us.cloud-object-storage.appdomain.cloud/IBMDeveloperSkillsNetwork-DS0105EN-SkillsNetwork/labs/Module2/images/SN_web_lightmode.png\" width=\"300\" alt=\"cognitiveclass.ai logo\">\n",
    "</center>\n"
   ]
  },
  {
   "cell_type": "markdown",
   "metadata": {},
   "source": [
    "#### Add your code below following the instructions given in the course\n"
   ]
  },
  {
   "cell_type": "markdown",
   "metadata": {
    "tags": []
   },
   "source": [
    "# Jupyter Notebook"
   ]
  },
  {
   "cell_type": "markdown",
   "metadata": {
    "tags": []
   },
   "source": [
    "# Data Science Introduction\n",
    "Data Science is a combination of multiple disciplines that uses statistics, data analysis, and machine learning to analyze data and to extract knowledge and insights from it."
   ]
  },
  {
   "cell_type": "markdown",
   "metadata": {},
   "source": [
    "# List of popular languages for Data Science\n",
    "* Python\n",
    "* R\n",
    "* Julia\n",
    "* Java"
   ]
  },
  {
   "cell_type": "markdown",
   "metadata": {},
   "source": [
    "# List of popula libraries used in Data Science\n",
    "1. Pandas\n",
    "2. Numpy\n",
    "3. Matplotlib\n",
    "3. Scikit-Learn\n",
    "4. Seaborn\n",
    "5. etc."
   ]
  },
  {
   "cell_type": "markdown",
   "metadata": {},
   "source": [
    "# Data Science tools\n",
    "| Data Science Tools |\n",
    "| ------------------ |\n",
    "| Anaconda |\n",
    "| RStudio |\n",
    "| Jupyter Notebooks |\n",
    "| Vs Code |\n",
    "| Jupyter Lab |\n",
    "| JupyterLite |"
   ]
  },
  {
   "cell_type": "markdown",
   "metadata": {},
   "source": [
    "# Arithmetics Exeprission\n",
    "* Addition of tow number (2+6) \n",
    "* subtraction (6-2) \n",
    "* multiply (2*7) \n",
    "* division (9/2)"
   ]
  },
  {
   "cell_type": "code",
   "execution_count": 10,
   "metadata": {
    "tags": []
   },
   "outputs": [
    {
     "name": "stdout",
     "output_type": "stream",
     "text": [
      "Result of addidion is : 16\n",
      "Result of multiplication is : 63\n"
     ]
    }
   ],
   "source": [
    "# Addition and mutliplication of the same two numbers \n",
    "\n",
    "# Addition\n",
    "print(\"Result of addidion is :\",9+7)\n",
    "\n",
    "# Multiplication\n",
    "print(\"Result of multiplication is :\",9*7)"
   ]
  },
  {
   "cell_type": "code",
   "execution_count": 15,
   "metadata": {
    "tags": []
   },
   "outputs": [
    {
     "name": "stdout",
     "output_type": "stream",
     "text": [
      "the result of the converting 350 minutes into hours is 5.833333333333333\n"
     ]
    }
   ],
   "source": [
    "#Convert minutes to hours\n",
    "NbrMinutes = 350\n",
    "MinutesInHour = 60\n",
    "MinutesToHours = NbrMinutes/MinutesInHour\n",
    "print(f\"the result of the converting {NbrMinutes} minutes into hours is {MinutesToHours}\")"
   ]
  },
  {
   "cell_type": "markdown",
   "metadata": {},
   "source": [
    "# The objectives of this laboratory are to:\n",
    "* List the popular libraries used in data Science\n",
    "* List the popular languages for Data Science\n",
    "* List the Data Science Tools\n",
    "* Using of Markdown cell\n",
    "* Using of Code cell\n",
    "* Arithmetic Expressions"
   ]
  },
  {
   "cell_type": "markdown",
   "metadata": {},
   "source": [
    "# Autor\n",
    "JIDA Bassem"
   ]
  },
  {
   "cell_type": "code",
   "execution_count": null,
   "metadata": {},
   "outputs": [],
   "source": []
  }
 ],
 "metadata": {
  "kernelspec": {
   "display_name": "Python",
   "language": "python",
   "name": "conda-env-python-py"
  },
  "language_info": {
   "codemirror_mode": {
    "name": "ipython",
    "version": 3
   },
   "file_extension": ".py",
   "mimetype": "text/x-python",
   "name": "python",
   "nbconvert_exporter": "python",
   "pygments_lexer": "ipython3",
   "version": "3.7.12"
  }
 },
 "nbformat": 4,
 "nbformat_minor": 4
}
